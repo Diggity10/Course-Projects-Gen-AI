{
  "nbformat": 4,
  "nbformat_minor": 0,
  "metadata": {
    "colab": {
      "provenance": [],
      "authorship_tag": "ABX9TyMdKr6+kw+fm9kwkTELaPTQ",
      "include_colab_link": true
    },
    "kernelspec": {
      "name": "python3",
      "display_name": "Python 3"
    },
    "language_info": {
      "name": "python"
    }
  },
  "cells": [
    {
      "cell_type": "markdown",
      "metadata": {
        "id": "view-in-github",
        "colab_type": "text"
      },
      "source": [
        "<a href=\"https://colab.research.google.com/github/Diggity10/Course-Projects-Gen-AI/blob/main/Luther.ipynb\" target=\"_parent\"><img src=\"https://colab.research.google.com/assets/colab-badge.svg\" alt=\"Open In Colab\"/></a>"
      ]
    },
    {
      "cell_type": "code",
      "source": [
        "import random\n",
        "import time\n",
        "import sys\n",
        "\n",
        "# Martin Luther Quotes Dictionary\n",
        "luther_quotes = {\n",
        "    \"quote_1\": \"Why do you not tell them these things? Say to them: They shall not escape you who speak of the pope that he is an ass.\",\n",
        "    \"quote_2\": \"The world is full of devils, and there is no lack of sins among us, just as there is no lack of water in the sea.\",\n",
        "    \"quote_3\": \"Be a sinner and sin boldly, but believe and rejoice in Christ even more boldly.\",\n",
        "    \"quote_4\": \"You cannot keep the birds from flying over your head, but you can keep them from building a nest in your hair.\",\n",
        "    \"quote_5\": \"The devil, the originator of sorrowful anxieties and restless troubles, flees before the sound of music almost as much as before the Word of God.\",\n",
        "    \"quote_6\": \"Next to the Word of God, the noble art of music is the greatest treasure in the world.\",\n",
        "    \"quote_7\": \"The human heart is like a ship on a stormy sea driven about by winds blowing from all four corners of heaven.\",\n",
        "    \"quote_8\": \"I am more afraid of my own heart than of the pope and all his cardinals. I have within me the great pope, Self.\",\n",
        "    \"quote_9\": \"The fewer the words, the better the prayer.\",\n",
        "    \"quote_10\": \"You are not only responsible for what you say, but also for what you do not say.\",\n",
        "    \"quote_11\": \"I cannot and will not recant anything, for to go against conscience is neither right nor safe. Here I stand, I can do no other, so help me God.\",\n",
        "    \"quote_12\": \"Even if I knew that tomorrow the world would go to pieces, I would still plant my apple tree.\",\n",
        "    \"quote_13\": \"You have as much laughter as you have faith.\",\n",
        "    \"quote_14\": \"I have so much to do that I shall spend the first three hours in prayer.\",\n",
        "    \"quote_15\": \"I would rather be ruled by a wise Turk than by a foolish Christian.\",\n",
        "    \"quote_16\": \"No one can be a good theologian unless he has lived in hell.\",\n",
        "    \"quote_17\": \"A Christian is a perfectly free lord of all, subject to none. A Christian is a perfectly dutiful servant of all, subject to all.\",\n",
        "    \"quote_18\": \"Every man must do two things alone; he must do his own believing and his own dying.\",\n",
        "    \"quote_19\": \"Faith is a living, daring confidence in God’s grace, so sure and certain that a man could stake his life on it a thousand times.\",\n",
        "    \"quote_20\": \"Peace if possible, truth at all costs.\"\n",
        "}\n",
        "\n",
        "# ASCII Art Castle\n",
        "castle_art = \"\"\"\n",
        "                 T~~\n",
        "                 |\n",
        "                /\"\\\\\n",
        "        T~~     |'| T~~\n",
        "    T~~ |    T~ VVVV|\n",
        "    |  /\"\\\\ T~~ |  /\"\\\\\n",
        "   /\"\\\\ VVV |  /\"\\\\ VVV\n",
        "VVVVV/\"\\\\VVVVVVVVVVVVV/\"\\\\VVV\n",
        "\"\"\"\n",
        "\n",
        "# Function to generate random quote\n",
        "def get_random_quote():\n",
        "    return random.choice(list(luther_quotes.values()))\n",
        "\n",
        "# Function to display text letter by letter\n",
        "def typewriter_effect(text, delay=0.1):\n",
        "    for char in text:\n",
        "        sys.stdout.write(char)\n",
        "        sys.stdout.flush()\n",
        "        time.sleep(delay)\n",
        "    print()  # Move to the next line after the text is done\n",
        "\n",
        "# Main program\n",
        "def main():\n",
        "    # Display the title with typewriter effect\n",
        "    typewriter_effect(\"A Mighty Fortress is our God!\", delay=0.1)\n",
        "\n",
        "    # Display the ASCII art\n",
        "    print(castle_art)\n",
        "\n",
        "    # Ask for the user's name\n",
        "    name = input(\"Welcome to 'A Mighty Fortress.' What is your name? \")\n",
        "\n",
        "    # Loop to generate quotes and ask if the user wants another one\n",
        "    while True:\n",
        "        # Generate and display a quote\n",
        "        print(f\"\\n{name}, here is a quote from Martin Luther to inspire you:\\n\")\n",
        "        print(f\"\\\"{get_random_quote()}\\\"\")\n",
        "\n",
        "        # Ask if the user wants another quote\n",
        "        another = input(\"\\nWould you like another quote? (yes/no): \").strip().lower()\n",
        "        if another == 'yes':\n",
        "            print(\"A wise choice!\")\n",
        "        else:\n",
        "            print(f\"\\n{name}, this is most certainly true.\")\n",
        "            break\n",
        "\n",
        "if __name__ == \"__main__\":\n",
        "    main()\n"
      ],
      "metadata": {
        "colab": {
          "base_uri": "https://localhost:8080/"
        },
        "id": "pRLFgDW7red2",
        "outputId": "4ff8c2b8-0acc-4d8a-e04b-2fbfbd3c46e4"
      },
      "execution_count": 13,
      "outputs": [
        {
          "output_type": "stream",
          "name": "stdout",
          "text": [
            "A Mighty Fortress is our God!\n",
            "\n",
            "                 T~~\n",
            "                 |\n",
            "                /\"\\\n",
            "        T~~     |'| T~~\n",
            "    T~~ |    T~ VVVV|\n",
            "    |  /\"\\ T~~ |  /\"\\\n",
            "   /\"\\ VVV |  /\"\\ VVV\n",
            "VVVVV/\"\\VVVVVVVVVVVVV/\"\\VVV\n",
            "\n",
            "Welcome to 'A Mighty Fortress.' What is your name? Fr. Jim\n",
            "\n",
            "Fr. Jim, here is a quote from Martin Luther to inspire you:\n",
            "\n",
            "\"Be a sinner and sin boldly, but believe and rejoice in Christ even more boldly.\"\n",
            "\n",
            "Would you like another quote? (yes/no): yes\n",
            "A wise choice!\n",
            "\n",
            "Fr. Jim, here is a quote from Martin Luther to inspire you:\n",
            "\n",
            "\"Faith is a living, daring confidence in God’s grace, so sure and certain that a man could stake his life on it a thousand times.\"\n",
            "\n",
            "Would you like another quote? (yes/no): no\n",
            "\n",
            "Fr. Jim, this is most certainly true.\n"
          ]
        }
      ]
    }
  ]
}