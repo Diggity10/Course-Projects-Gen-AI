{
  "nbformat": 4,
  "nbformat_minor": 0,
  "metadata": {
    "colab": {
      "provenance": [],
      "authorship_tag": "ABX9TyNYFv49pG7NXUuf/VJFlPZ7",
      "include_colab_link": true
    },
    "kernelspec": {
      "name": "python3",
      "display_name": "Python 3"
    },
    "language_info": {
      "name": "python"
    }
  },
  "cells": [
    {
      "cell_type": "markdown",
      "metadata": {
        "id": "view-in-github",
        "colab_type": "text"
      },
      "source": [
        "<a href=\"https://colab.research.google.com/github/Diggity10/Course-Projects-Gen-AI/blob/main/Joel_Olsteen_or_Cookie.ipynb\" target=\"_parent\"><img src=\"https://colab.research.google.com/assets/colab-badge.svg\" alt=\"Open In Colab\"/></a>"
      ]
    },
    {
      "cell_type": "code",
      "source": [
        "import random\n",
        "\n",
        "# Dictionary with Joel Osteen-inspired quotes and fortune cookie quotes\n",
        "quotes_dict = {\n",
        "    \"joel_osteen_quotes\": [\n",
        "        \"Your smile is the best investment you can make—it's like sunshine for the soul!\",\n",
        "        \"Life is a dance, and every step you take leads you closer to your dreams!\",\n",
        "        \"Wake up every morning with a heart full of gratitude—it's the secret sauce to a happy life!\",\n",
        "        \"When life gives you lemons, turn them into a lemonade empire!\",\n",
        "        \"Your future is as bright as your belief in yourself—shine on!\",\n",
        "        \"Every setback is just a setup for a major comeback!\",\n",
        "        \"Happiness isn't a destination; it's the journey of finding joy in every moment!\",\n",
        "        \"You're a masterpiece in progress, and every day is a brushstroke on the canvas of your life!\",\n",
        "        \"Success is just a smile away—keep your head up and your spirits higher!\",\n",
        "        \"The best way to predict your future is to create it with positivity and passion!\",\n",
        "        \"Believe in the power of your dreams—they are the seeds of your future success!\",\n",
        "        \"Every day is a new opportunity to rise above the challenges and shine!\",\n",
        "        \"Let your heart be your compass, and you’ll never lose your way.\",\n",
        "        \"The power of positivity can move mountains in your life—start today!\",\n",
        "        \"Your inner strength is greater than any obstacle you face.\",\n",
        "        \"You are capable of amazing things when you believe in yourself!\",\n",
        "        \"Find joy in the little things, and your life will be filled with happiness.\",\n",
        "        \"You have the power to create a beautiful life—one step at a time.\",\n",
        "        \"When you focus on the good, the good gets better.\",\n",
        "        \"Your journey is unique; embrace every moment with grace and gratitude.\"\n",
        "    ],\n",
        "    \"fortune_cookie_quotes\": [\n",
        "        \"The path to happiness is paved with gratitude—each step you take in appreciation brings you closer to your dreams.\",\n",
        "        \"A smile is the most powerful tool you have; use it generously, and watch the world open up for you.\",\n",
        "        \"Success often hides behind challenges—embrace them with a positive attitude, and you’ll uncover your true potential.\",\n",
        "        \"Every sunrise brings a new opportunity to rewrite your story—start each day with hope and determination.\",\n",
        "        \"Your dreams may seem distant, but each small step forward brings them closer than you think.\",\n",
        "        \"A joyful heart attracts abundance; let your inner light shine, and watch blessings come your way.\",\n",
        "        \"When you believe in the power of positivity, you unlock the door to endless possibilities.\",\n",
        "        \"Embrace each challenge as an opportunity to grow, and you’ll find success waiting just around the corner.\",\n",
        "        \"Optimism is the compass that guides you toward your greatest achievements—trust in your direction.\",\n",
        "        \"Life’s sweetest rewards come to those who approach each day with a heart full of hope and a mind open to possibility.\",\n",
        "        \"Your kindness today will return to you in unexpected ways.\",\n",
        "        \"A great adventure is just around the corner—be ready to embrace it.\",\n",
        "        \"Luck favors those who believe in it; keep your faith strong.\",\n",
        "        \"The secret to a fulfilled life is to appreciate the simple pleasures.\",\n",
        "        \"A new opportunity is on the horizon—seize it with confidence.\",\n",
        "        \"Good fortune comes to those who work for it—your efforts will soon pay off.\",\n",
        "        \"The best time to start something new is now—don't wait for the perfect moment.\",\n",
        "        \"Happiness is not a destination; it’s a way of life—choose to live it every day.\",\n",
        "        \"Your positive energy is contagious—spread it wherever you go.\",\n",
        "        \"A beautiful chapter in your life is about to unfold—embrace it with open arms.\"\n",
        "    ]\n",
        "}\n",
        "\n",
        "def get_random_quote():\n",
        "    \"\"\"Get a random quote from either Joel Osteen or Fortune Cookie.\"\"\"\n",
        "    category = random.choice(list(quotes_dict.keys()))\n",
        "    quote = random.choice(quotes_dict[category])\n",
        "    return quote, category\n",
        "\n",
        "def main():\n",
        "    print(\"Welcome to the Joel Osteen or Fortune Cookie guessing game!\")\n",
        "    score = 0\n",
        "    rounds = 5  # Number of rounds in the game\n",
        "\n",
        "    for _ in range(rounds):\n",
        "        quote, correct_category = get_random_quote()\n",
        "        print(f\"\\nQuote: {quote}\")\n",
        "        user_guess = input(\"Is this a 'Joel Osteen' quote or a 'Fortune Cookie' quote? (Type 'Joel' or 'Cookie'): \").strip().lower()\n",
        "\n",
        "        if user_guess == \"Joel\" and correct_category == \"joel_osteen_quotes\":\n",
        "            print(\"Correct! It was a Joel Osteen quote!\")\n",
        "            score += 1\n",
        "        elif user_guess == \"Cookie\" and correct_category == \"fortune_cookie_quotes\":\n",
        "            print(\"Correct! It was a Fortune Cookie quote.\")\n",
        "            score += 1\n",
        "        else:\n",
        "            print(f\"Wrong! It was a {'Joel Osteen' if correct_category == 'joel_osteen_quotes' else 'Fortune Cookie'} quote.\")\n",
        "\n",
        "    print(f\"\\nGame over! Your final score is {score} out of {rounds}.\")\n",
        "\n",
        "if __name__ == \"__main__\":\n",
        "    main()\n"
      ],
      "metadata": {
        "colab": {
          "base_uri": "https://localhost:8080/"
        },
        "id": "-pSMIM9fvOTL",
        "outputId": "0aa7bccb-8051-4918-b010-0dfc17f6350b"
      },
      "execution_count": 2,
      "outputs": [
        {
          "output_type": "stream",
          "name": "stdout",
          "text": [
            "Welcome to the Joel Osteen or Fortune Cookie guessing game!\n",
            "\n",
            "Quote: When life gives you lemons, turn them into a lemonade empire!\n",
            "Is this a 'Joel Osteen' quote or a 'Fortune Cookie' quote? (Type 'Joel' or 'Cookie'): Joel\n",
            "Wrong! It was a Joel Osteen quote.\n",
            "\n",
            "Quote: A beautiful chapter in your life is about to unfold—embrace it with open arms.\n",
            "Is this a 'Joel Osteen' quote or a 'Fortune Cookie' quote? (Type 'Joel' or 'Cookie'): Joel\n",
            "Wrong! It was a Fortune Cookie quote.\n",
            "\n",
            "Quote: Your smile is the best investment you can make—it's like sunshine for the soul!\n",
            "Is this a 'Joel Osteen' quote or a 'Fortune Cookie' quote? (Type 'Joel' or 'Cookie'): Cookie\n",
            "Wrong! It was a Joel Osteen quote.\n",
            "\n",
            "Quote: Optimism is the compass that guides you toward your greatest achievements—trust in your direction.\n",
            "Is this a 'Joel Osteen' quote or a 'Fortune Cookie' quote? (Type 'Joel' or 'Cookie'): Joel\n",
            "Wrong! It was a Fortune Cookie quote.\n",
            "\n",
            "Quote: Luck favors those who believe in it; keep your faith strong.\n",
            "Is this a 'Joel Osteen' quote or a 'Fortune Cookie' quote? (Type 'Joel' or 'Cookie'): Joel\n",
            "Wrong! It was a Fortune Cookie quote.\n",
            "\n",
            "Game over! Your final score is 0 out of 5.\n"
          ]
        }
      ]
    }
  ]
}